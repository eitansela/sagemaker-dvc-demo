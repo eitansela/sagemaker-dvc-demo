{
 "cells": [
  {
   "cell_type": "markdown",
   "metadata": {},
   "source": [
    "## Track ML experimentation using Amazon SageMaker & DVC"
   ]
  },
  {
   "cell_type": "markdown",
   "metadata": {},
   "source": [
    "The purpose of this notebook is to demonstrate how to integrate Amazon SageMaker experiment with DVC to keep track of data and ML model.  "
   ]
  },
  {
   "cell_type": "markdown",
   "metadata": {},
   "source": [
    "### Contents \n",
    "\n",
    "1. Background\n",
    "2. Initial Setup\n",
    "3. Data\n",
    "4. Experiment 1\n",
    "5. Experiement 2\n"
   ]
  },
  {
   "cell_type": "markdown",
   "metadata": {},
   "source": [
    "### Initial setup"
   ]
  },
  {
   "cell_type": "markdown",
   "metadata": {},
   "source": [
    "#### Let's start witht the initial setup which includes:\n",
    "    - setup of dvc and git on this notebook\n",
    "    - Initiate the sagemaker session\n",
    "    - The IAM role arn which will be used to give access to data\n",
    "    - The S3 bucket which will be used to store the data and DVC artifacts\n",
    "    - Importing the required python packages"
   ]
  },
  {
   "cell_type": "code",
   "execution_count": 44,
   "metadata": {},
   "outputs": [
    {
     "name": "stdout",
     "output_type": "stream",
     "text": [
      "Requirement already satisfied: dvc in /opt/conda/lib/python3.7/site-packages (1.6.1)\n",
      "Requirement already satisfied: tabulate>=0.8.7 in /opt/conda/lib/python3.7/site-packages (from dvc) (0.8.7)\n",
      "Requirement already satisfied: configobj>=5.0.6 in /opt/conda/lib/python3.7/site-packages (from dvc) (5.0.6)\n",
      "Requirement already satisfied: distro>=1.3.0 in /opt/conda/lib/python3.7/site-packages (from dvc) (1.5.0)\n",
      "Requirement already satisfied: colorama>=0.3.9 in /opt/conda/lib/python3.7/site-packages (from dvc) (0.4.3)\n",
      "Requirement already satisfied: networkx<2.5,>=2.1 in /opt/conda/lib/python3.7/site-packages (from dvc) (2.4)\n",
      "Requirement already satisfied: requests>=2.22.0 in /opt/conda/lib/python3.7/site-packages (from dvc) (2.22.0)\n",
      "Requirement already satisfied: appdirs>=1.4.3 in /opt/conda/lib/python3.7/site-packages (from dvc) (1.4.4)\n",
      "Requirement already satisfied: jsonpath-ng>=1.5.1 in /opt/conda/lib/python3.7/site-packages (from dvc) (1.5.1)\n",
      "Requirement already satisfied: pyasn1>=0.4.1 in /opt/conda/lib/python3.7/site-packages (from dvc) (0.4.8)\n",
      "Requirement already satisfied: grandalf==0.6 in /opt/conda/lib/python3.7/site-packages (from dvc) (0.6)\n",
      "Requirement already satisfied: tqdm<5,>=4.45.0 in /opt/conda/lib/python3.7/site-packages (from dvc) (4.48.2)\n",
      "Requirement already satisfied: funcy>=1.14 in /opt/conda/lib/python3.7/site-packages (from dvc) (1.14)\n",
      "Requirement already satisfied: pydot>=1.2.4 in /opt/conda/lib/python3.7/site-packages (from dvc) (1.4.1)\n",
      "Requirement already satisfied: ply>=3.9 in /opt/conda/lib/python3.7/site-packages (from dvc) (3.11)\n",
      "Requirement already satisfied: flatten-json<0.1.8,>=0.1.6 in /opt/conda/lib/python3.7/site-packages (from dvc) (0.1.7)\n",
      "Requirement already satisfied: pygtrie==2.3.2 in /opt/conda/lib/python3.7/site-packages (from dvc) (2.3.2)\n",
      "Requirement already satisfied: packaging>=19.0 in /opt/conda/lib/python3.7/site-packages (from dvc) (20.1)\n",
      "Requirement already satisfied: dpath<3,>=2.0.1 in /opt/conda/lib/python3.7/site-packages (from dvc) (2.0.1)\n",
      "Requirement already satisfied: shortuuid>=0.5.0 in /opt/conda/lib/python3.7/site-packages (from dvc) (1.0.1)\n",
      "Requirement already satisfied: gitpython>3 in /opt/conda/lib/python3.7/site-packages (from dvc) (3.1.7)\n",
      "Requirement already satisfied: ruamel.yaml>=0.16.1 in /opt/conda/lib/python3.7/site-packages (from dvc) (0.16.10)\n",
      "Requirement already satisfied: rich>=3.0.5 in /opt/conda/lib/python3.7/site-packages (from dvc) (6.0.0)\n",
      "Requirement already satisfied: shtab<2,>=1.3.0 in /opt/conda/lib/python3.7/site-packages (from dvc) (1.3.1)\n",
      "Requirement already satisfied: setuptools>=34.0.0 in /opt/conda/lib/python3.7/site-packages (from dvc) (45.2.0.post20200210)\n",
      "Requirement already satisfied: pathspec>=0.6.0 in /opt/conda/lib/python3.7/site-packages (from dvc) (0.8.0)\n",
      "Requirement already satisfied: nanotime>=0.5.2 in /opt/conda/lib/python3.7/site-packages (from dvc) (0.5.2)\n",
      "Requirement already satisfied: zc.lockfile>=1.2.1 in /opt/conda/lib/python3.7/site-packages (from dvc) (2.0)\n",
      "Requirement already satisfied: flufl.lock<4,>=3.2 in /opt/conda/lib/python3.7/site-packages (from dvc) (3.2)\n",
      "Requirement already satisfied: voluptuous>=0.11.7 in /opt/conda/lib/python3.7/site-packages (from dvc) (0.11.7)\n",
      "Requirement already satisfied: toml>=0.10.1 in /opt/conda/lib/python3.7/site-packages (from dvc) (0.10.1)\n",
      "Requirement already satisfied: dictdiffer>=0.8.1 in /opt/conda/lib/python3.7/site-packages (from dvc) (0.8.1)\n",
      "Requirement already satisfied: six in /opt/conda/lib/python3.7/site-packages (from configobj>=5.0.6->dvc) (1.14.0)\n",
      "Requirement already satisfied: decorator>=4.3.0 in /opt/conda/lib/python3.7/site-packages (from networkx<2.5,>=2.1->dvc) (4.4.1)\n",
      "Requirement already satisfied: chardet<3.1.0,>=3.0.2 in /opt/conda/lib/python3.7/site-packages (from requests>=2.22.0->dvc) (3.0.4)\n",
      "Requirement already satisfied: idna<2.9,>=2.5 in /opt/conda/lib/python3.7/site-packages (from requests>=2.22.0->dvc) (2.8)\n",
      "Requirement already satisfied: certifi>=2017.4.17 in /opt/conda/lib/python3.7/site-packages (from requests>=2.22.0->dvc) (2019.11.28)\n",
      "Requirement already satisfied: urllib3!=1.25.0,!=1.25.1,<1.26,>=1.21.1 in /opt/conda/lib/python3.7/site-packages (from requests>=2.22.0->dvc) (1.25.8)\n",
      "Requirement already satisfied: pyparsing in /opt/conda/lib/python3.7/site-packages (from grandalf==0.6->dvc) (2.4.6)\n",
      "Requirement already satisfied: future in /opt/conda/lib/python3.7/site-packages (from grandalf==0.6->dvc) (0.18.2)\n",
      "Requirement already satisfied: gitdb<5,>=4.0.1 in /opt/conda/lib/python3.7/site-packages (from gitpython>3->dvc) (4.0.5)\n",
      "Requirement already satisfied: ruamel.yaml.clib>=0.1.2; platform_python_implementation == \"CPython\" and python_version < \"3.9\" in /opt/conda/lib/python3.7/site-packages (from ruamel.yaml>=0.16.1->dvc) (0.2.0)\n",
      "Requirement already satisfied: commonmark<0.10.0,>=0.9.0 in /opt/conda/lib/python3.7/site-packages (from rich>=3.0.5->dvc) (0.9.1)\n",
      "Requirement already satisfied: typing-extensions<4.0.0,>=3.7.4 in /opt/conda/lib/python3.7/site-packages (from rich>=3.0.5->dvc) (3.7.4.3)\n",
      "Requirement already satisfied: pygments<3.0.0,>=2.6.0 in /opt/conda/lib/python3.7/site-packages (from rich>=3.0.5->dvc) (2.6.1)\n",
      "Requirement already satisfied: atpublic in /opt/conda/lib/python3.7/site-packages (from flufl.lock<4,>=3.2->dvc) (2.0)\n",
      "Requirement already satisfied: smmap<4,>=3.0.1 in /opt/conda/lib/python3.7/site-packages (from gitdb<5,>=4.0.1->gitpython>3->dvc) (3.0.4)\n",
      "\u001b[31mERROR\u001b[39m: failed to install DVC Git hooks - Hook 'post-checkout' already exists. Please refer to <\u001b[36mhttps://man.dvc.org/install\u001b[39m> for more info.\n",
      "\n",
      "\u001b[33mHaving any troubles?\u001b[39m Hit us up at \u001b[34mhttps://dvc.org/support\u001b[39m, we are always happy to help!\n",
      "\u001b[0m"
     ]
    }
   ],
   "source": [
    "# install dvc \n",
    "! pip install dvc\n",
    "# setup giet\n",
    "! git config --system user.name \"USERNAME\"   # Replace USERNAME with your source control user name\n",
    "! git config --system user.email \"EMAIL\"          # Replace EMAIL with your source control email\n",
    "\n",
    "# install dvc git hook (Ignore error if DVC Git hooks already exist)\n",
    "! dvc install"
   ]
  },
  {
   "cell_type": "code",
   "execution_count": null,
   "metadata": {},
   "outputs": [],
   "source": [
    "import sagemaker\n",
    "sess = sagemaker.Session()\n",
    "\n",
    "# Define IAM role\n",
    "import boto3\n",
    "import re\n",
    "from sagemaker import get_execution_role\n",
    "\n",
    "role = get_execution_role()\n",
    "\n",
    "bucket='BUCKETNAME'  # Replace with your bucket name\n",
    "prefix ='data'"
   ]
  },
  {
   "cell_type": "code",
   "execution_count": null,
   "metadata": {},
   "outputs": [],
   "source": [
    "import pandas as pd\n",
    "import numpy as np\n",
    "import matplotlib.pyplot as plt\n",
    "import io\n",
    "import os\n",
    "import sys\n",
    "import time\n",
    "import json\n",
    "from IPython.display import display\n",
    "from time import strftime, gmtime\n",
    "import sagemaker\n",
    "from sagemaker.predictor import csv_serializer"
   ]
  },
  {
   "cell_type": "markdown",
   "metadata": {},
   "source": [
    "## Data "
   ]
  },
  {
   "cell_type": "markdown",
   "metadata": {},
   "source": [
    "For the purpose of this demo, we consider the customer churn use case. We use the publicly avaialable dataset attributed to University of California Irvine Repository of Machine Learning Datasets. Let's download this dataset."
   ]
  },
  {
   "cell_type": "code",
   "execution_count": null,
   "metadata": {},
   "outputs": [],
   "source": [
    "!wget http://dataminingconsultant.com/DKD2e_data_sets.zip\n",
    "!unzip -o DKD2e_data_sets.zip"
   ]
  },
  {
   "cell_type": "code",
   "execution_count": null,
   "metadata": {},
   "outputs": [],
   "source": [
    "churn = pd.read_csv('./Data sets/churn.txt')\n",
    "pd.set_option('display.max_columns', 500)\n",
    "churn"
   ]
  },
  {
   "cell_type": "markdown",
   "metadata": {},
   "source": [
    "This dataset includes 3333 records and 21 attributes. The attributes are:\n",
    "\n",
    "- State: the US state in which the customer resides, indicated by a two-letter abbreviation; for example, OH or NJ\n",
    "- Account Length: the number of days that this account has been active\n",
    "- Area Code: the three-digit area code of the corresponding customer’s phone number\n",
    "- Phone: the remaining seven-digit phone number\n",
    "- Int’l Plan: whether the customer has an international calling plan: yes/no\n",
    "- VMail Plan: whether the customer has a voice mail feature: yes/no\n",
    "- VMail Message: presumably the average number of voice mail messages per month\n",
    "- Day Mins: the total number of calling minutes used during the day\n",
    "- Day Calls: the total number of calls placed during the day\n",
    "- Day Charge: the billed cost of daytime calls\n",
    "- Eve Mins, Eve Calls, Eve Charge: the billed cost for calls placed during the evening\n",
    "- Night Mins, Night Calls, Night Charge: the billed cost for calls placed during nighttime\n",
    "- Intl Mins, Intl Calls, Intl Charge: the billed cost for international calls\n",
    "- CustServ Calls: the number of calls placed to Customer Service\n",
    "- Churn?: whether the customer left the service: true/false. This is the target attribute and we will use as the label for our ML model"
   ]
  },
  {
   "cell_type": "markdown",
   "metadata": {},
   "source": [
    "Let's do some initial data cleaining. The detailed data exploration for this dataset can be found in [1]."
   ]
  },
  {
   "cell_type": "code",
   "execution_count": null,
   "metadata": {},
   "outputs": [],
   "source": [
    "churn = churn.drop('Phone', axis=1)\n",
    "churn = churn.drop(['Day Charge', 'Eve Charge', 'Night Charge', 'Intl Charge'], axis=1)\n",
    "churn['Area Code'] = churn['Area Code'].astype(object)"
   ]
  },
  {
   "cell_type": "markdown",
   "metadata": {},
   "source": []
  },
  {
   "cell_type": "markdown",
   "metadata": {},
   "source": [
    "We need to also convert our categorical features into numeric features."
   ]
  },
  {
   "cell_type": "code",
   "execution_count": null,
   "metadata": {},
   "outputs": [],
   "source": [
    "model_data = pd.get_dummies(churn)\n",
    "model_data = pd.concat([model_data['Churn?_True.'], model_data.drop(['Churn?_False.', 'Churn?_True.'], axis=1)], axis=1)"
   ]
  },
  {
   "cell_type": "markdown",
   "metadata": {},
   "source": [
    "And now let's split the data into training and validation sets."
   ]
  },
  {
   "cell_type": "code",
   "execution_count": null,
   "metadata": {},
   "outputs": [],
   "source": []
  },
  {
   "cell_type": "code",
   "execution_count": null,
   "metadata": {},
   "outputs": [],
   "source": [
    "train_data, validation_data, test_data = np.split(model_data.sample(frac=1, random_state=1729), [int(0.7 * len(model_data)), int(0.9 * len(model_data))])\n",
    "train_data.to_csv('train.csv', header=False, index=False)\n",
    "validation_data.to_csv('validation.csv', header=False, index=False)"
   ]
  },
  {
   "cell_type": "code",
   "execution_count": null,
   "metadata": {},
   "outputs": [],
   "source": [
    "boto3.Session().resource('s3').Bucket(bucket).Object(os.path.join(prefix, 'train/train.csv')).upload_file('train.csv')\n",
    "boto3.Session().resource('s3').Bucket(bucket).Object(os.path.join(prefix, 'validation/validation.csv')).upload_file('validation.csv')"
   ]
  },
  {
   "cell_type": "markdown",
   "metadata": {},
   "source": []
  },
  {
   "cell_type": "markdown",
   "metadata": {},
   "source": [
    "## Experiment 1"
   ]
  },
  {
   "cell_type": "markdown",
   "metadata": {},
   "source": [
    "A good way to associaite a new experiment with a head of git is to make a new git branch for this experiment. Let's create a new git branch."
   ]
  },
  {
   "cell_type": "code",
   "execution_count": null,
   "metadata": {},
   "outputs": [],
   "source": [
    "! git checkout -b experiment1"
   ]
  },
  {
   "cell_type": "code",
   "execution_count": null,
   "metadata": {},
   "outputs": [],
   "source": [
    "boto3.Session().resource('s3').Bucket(bucket).Object(os.path.join(prefix, 'train/train.csv')).upload_file('train.csv')\n",
    "boto3.Session().resource('s3').Bucket(bucket).Object(os.path.join(prefix, 'validation/validation.csv')).upload_file('validation.csv')"
   ]
  },
  {
   "cell_type": "markdown",
   "metadata": {},
   "source": [
    "To predict the customer churining, we will use XGBoost algorithm. Now, the first step is to specifyt the location of rhe XGBoost conatiner."
   ]
  },
  {
   "cell_type": "code",
   "execution_count": null,
   "metadata": {},
   "outputs": [],
   "source": [
    "from sagemaker.amazon.amazon_estimator import get_image_uri\n",
    "container = get_image_uri(boto3.Session().region_name, 'xgboost')"
   ]
  },
  {
   "cell_type": "markdown",
   "metadata": {},
   "source": [
    "Then, we need to specify the location of training and validation data."
   ]
  },
  {
   "cell_type": "code",
   "execution_count": null,
   "metadata": {},
   "outputs": [],
   "source": [
    "s3_input_train = sagemaker.s3_input(s3_data='s3://{}/{}/train/'.format(bucket, prefix), content_type='csv')\n",
    "s3_input_validation = sagemaker.s3_input(s3_data='s3://{}/{}/validation/'.format(bucket, prefix), content_type='csv')"
   ]
  },
  {
   "cell_type": "markdown",
   "metadata": {},
   "source": [
    "To track the metadadata around th first experiment, we need to create an experiment within SageMaker experiment."
   ]
  },
  {
   "cell_type": "code",
   "execution_count": null,
   "metadata": {},
   "outputs": [],
   "source": [
    "from smexperiments import experiment\n",
    "commit = {'Key': 'commit-id', 'Value': 'COMMITID'} # Replace COMMITID with the commit id that you get from previous cell\n",
    "branch = {'Key': 'git-branch', 'Value': 'experiment1'}\n",
    "tags = [commit, branch]\n",
    "create_date = strftime(\"%Y-%m-%d-%H-%M-%S\")\n",
    "\n",
    "my_experiment = experiment.Experiment.create(experiment_name = \"experiment1-{}\".format(create_date),\n",
    "                                    description = \"experiment1-{}\".format(create_date),\n",
    "                                    tags = tags)\n",
    "my_trial = my_experiment.create_trial(trial_name = \"trial1-{}\".format(create_date))"
   ]
  },
  {
   "cell_type": "code",
   "execution_count": null,
   "metadata": {},
   "outputs": [],
   "source": [
    "sess = sagemaker.Session()\n",
    "\n",
    "xgb = sagemaker.estimator.Estimator(container,\n",
    "                                    role, \n",
    "                                    train_instance_count=1, \n",
    "                                    train_instance_type='ml.m4.xlarge',\n",
    "                                    output_path='s3://{}/{}/output'.format(bucket, prefix),\n",
    "                                    sagemaker_session=sess)\n",
    "xgb.set_hyperparameters(max_depth=5,\n",
    "                        eta=0.2,\n",
    "                        gamma=4,\n",
    "                        min_child_weight=6,\n",
    "                        subsample=0.8,\n",
    "                        silent=0,\n",
    "                        objective='binary:logistic',\n",
    "                        num_round=100)\n",
    "\n",
    "xgb.fit({'train': s3_input_train}, experiment_config={\n",
    "            \"ExperimentName\": my_experiment.experiment_name,\n",
    "            \"TrialName\": my_trial.trial_name,\n",
    "            \"TrialComponentDisplayName\": \"iris-xgb-learner\",\n",
    "        },)"
   ]
  },
  {
   "cell_type": "code",
   "execution_count": null,
   "metadata": {},
   "outputs": [],
   "source": [
    "from sagemaker import analytics\n",
    "trial_component_analytics = analytics.ExperimentAnalytics(experiment_name=my_experiment.experiment_name)\n",
    "analytic_table = trial_component_analytics.dataframe()\n",
    "analytic_table.columns"
   ]
  },
  {
   "cell_type": "markdown",
   "metadata": {},
   "source": [
    "## Step 2: Create the first experiment"
   ]
  },
  {
   "cell_type": "markdown",
   "metadata": {},
   "source": [
    "A good way to associaite a new experiment with a head of git is to make a new git branch for this experiment. Let's create a new git branch."
   ]
  },
  {
   "cell_type": "code",
   "execution_count": 4,
   "metadata": {},
   "outputs": [
    {
     "name": "stdout",
     "output_type": "stream",
     "text": [
      "M\t.dvc/.gitignore\n",
      "M\t.dvc/config\n",
      "M\t.dvc/plots/confusion.json\n",
      "M\t.dvc/plots/default.json\n",
      "M\t.dvc/plots/scatter.json\n",
      "M\t.dvc/plots/smooth.json\n",
      "M\t.dvcignore\n",
      "M\tREADME.md\n",
      "M\tdata.dvc\n",
      "Switched to a new branch 'experiment1'\n",
      "\u001b[0m                                                                            "
     ]
    }
   ],
   "source": [
    "! git checkout -b experiment1"
   ]
  },
  {
   "cell_type": "markdown",
   "metadata": {},
   "source": [
    "As the purpose of this demo is to just demonstrate how to integrate dvc with SageMaker, we do not go through building a ML model as part of this experimentation. we rather focus on data versioning."
   ]
  },
  {
   "cell_type": "markdown",
   "metadata": {},
   "source": [
    "Lets import the required python liberaries."
   ]
  },
  {
   "cell_type": "code",
   "execution_count": 48,
   "metadata": {},
   "outputs": [],
   "source": [
    "import time\n",
    "from time import strftime\n",
    "import sagemaker\n",
    "from smexperiments.experiment import Experiment\n",
    "from smexperiments.trial import Trial\n",
    "from smexperiments.trial_component import TrialComponent\n",
    "from smexperiments.tracker import Tracker\n",
    "from sklearn import datasets\n",
    "import pandas as pd\n",
    "import numpy as np\n",
    "import boto3\n",
    "import os"
   ]
  },
  {
   "cell_type": "markdown",
   "metadata": {},
   "source": [
    "We use the popular iris dataset to build this demo."
   ]
  },
  {
   "cell_type": "code",
   "execution_count": 6,
   "metadata": {},
   "outputs": [],
   "source": [
    "iris = datasets.load_iris()\n",
    "data = pd.DataFrame(data= np.c_[iris['data'], iris['target']],\n",
    "                     columns= iris['feature_names'] + ['target'])"
   ]
  },
  {
   "cell_type": "code",
   "execution_count": 7,
   "metadata": {},
   "outputs": [],
   "source": [
    "data.to_csv('data.csv', index=False, header=False)"
   ]
  },
  {
   "cell_type": "markdown",
   "metadata": {},
   "source": [
    "Lets consider this data as training dataset for experiment 1 and push it to our storage (S3)."
   ]
  },
  {
   "cell_type": "code",
   "execution_count": 8,
   "metadata": {},
   "outputs": [],
   "source": [
    "bucket='BUCKETNAME'  # Replace with your bucket name\n",
    "prefix ='data'\n",
    "\n",
    "boto3.Session().resource('s3').Bucket(bucket).Object(os.path.join(prefix, 'data.csv')).upload_file('data.csv')"
   ]
  },
  {
   "cell_type": "markdown",
   "metadata": {},
   "source": [
    "If we check the dvc status, there is a change in the data."
   ]
  },
  {
   "cell_type": "code",
   "execution_count": 9,
   "metadata": {},
   "outputs": [
    {
     "name": "stdout",
     "output_type": "stream",
     "text": [
      "data.dvc:                                                                       \n",
      "\tchanged outs:\n",
      "\t\tmodified:           s3://sagemaker-demo-sam/data\n",
      "\u001b[0m"
     ]
    }
   ],
   "source": [
    "! dvc status"
   ]
  },
  {
   "cell_type": "markdown",
   "metadata": {},
   "source": [
    "Lets add and commit those changes."
   ]
  },
  {
   "cell_type": "code",
   "execution_count": 10,
   "metadata": {},
   "outputs": [
    {
     "name": "stdout",
     "output_type": "stream",
     "text": [
      "Adding...                                                                       \n",
      "!\u001b[A\n",
      "  0%|          |Computing file/dir hashes (only done o0/1 [00:00<?,      ?md5/s]\u001b[A\n",
      "Adding...                                                                       \u001b[A\n",
      "!\u001b[A\n",
      "  0%|          |Computing file/dir hashes (only done o0/1 [00:00<?,      ?md5/s]\u001b[A\n",
      "                                                                                \u001b[A\n",
      "!\u001b[A\n",
      "  0%|          |Computing file/dir hashes (only done o0/1 [00:00<?,      ?md5/s]\u001b[A\n",
      "                                                                                \u001b[A\n",
      "!\u001b[A\n",
      "  0%|          |Saving data                     0.00/1.00 [00:00<?,     ?file/s]\u001b[A\n",
      "100%|██████████|Saving data                 1.00/1.00 [00:00<00:00,  2.83file/s]\u001b[A\n",
      "100% Add|██████████████████████████████████████████████|1/1 [00:02,  2.20s/file]\u001b[A\n",
      "\n",
      "To track the changes with git, run:\n",
      "\n",
      "\tgit add data.dvc\n",
      "\u001b[0m"
     ]
    }
   ],
   "source": [
    "! dvc add --external s3://sagemaker-demo-sam/data"
   ]
  },
  {
   "cell_type": "code",
   "execution_count": null,
   "metadata": {},
   "outputs": [],
   "source": [
    "! git add data.dvc"
   ]
  },
  {
   "cell_type": "code",
   "execution_count": 13,
   "metadata": {},
   "outputs": [
    {
     "name": "stdout",
     "output_type": "stream",
     "text": [
      "Data and pipelines are up to date.                                              \n",
      "\u001b[0m[experiment1 66eacfd] initial experiment 1\n",
      " 1 file changed, 1 insertion(+), 1 deletion(-)\n"
     ]
    }
   ],
   "source": [
    "! git commit -m \"initial experiment 1\""
   ]
  },
  {
   "cell_type": "markdown",
   "metadata": {},
   "source": [
    "Now, if we push the changes to git, dvc git hook also push the data change to dvc repo."
   ]
  },
  {
   "cell_type": "code",
   "execution_count": 17,
   "metadata": {},
   "outputs": [
    {
     "name": "stdout",
     "output_type": "stream",
     "text": [
      "Everything is up to date.                                                       \n",
      "\u001b[0mEnumerating objects: 5, done.\n",
      "Counting objects: 100% (5/5), done.\n",
      "Delta compression using up to 2 threads\n",
      "Compressing objects: 100% (3/3), done.\n",
      "Writing objects: 100% (3/3), 340 bytes | 21.00 KiB/s, done.\n",
      "Total 3 (delta 1), reused 0 (delta 0)\n",
      "remote: Resolving deltas: 100% (1/1), completed with 1 local object.\u001b[K\n",
      "remote: \n",
      "remote: Create a pull request for 'experiment1' on GitHub by visiting:\u001b[K\n",
      "remote:      https://github.com/ghassem1365/sagemaker-dvc-demo/pull/new/experiment1\u001b[K\n",
      "remote: \n",
      "To github.com:ghassem1365/sagemaker-dvc-demo.git\n",
      " * [new branch]      experiment1 -> experiment1\n",
      "Branch 'experiment1' set up to track remote branch 'experiment1' from 'origin'.\n"
     ]
    }
   ],
   "source": [
    "! git push --set-upstream origin experiment1"
   ]
  },
  {
   "cell_type": "markdown",
   "metadata": {},
   "source": [
    "To relate changes in data to SageMaker experiment, we can use the git commit id. As an example, We add this commit id as a tag to SageMaker experiment to relate these two."
   ]
  },
  {
   "cell_type": "code",
   "execution_count": 18,
   "metadata": {},
   "outputs": [
    {
     "name": "stdout",
     "output_type": "stream",
     "text": [
      "66eacfde4eb33565b5d4a9527cc6a8f1a63134d8\n"
     ]
    }
   ],
   "source": [
    "! git log --format=\"%H\" -n 1"
   ]
  },
  {
   "cell_type": "code",
   "execution_count": 50,
   "metadata": {},
   "outputs": [],
   "source": [
    "commit = {'Key': 'commit-id', 'Value': 'COMMITID'} # Replace COMMITID with the commit id that you get from previous cell\n",
    "branch = {'Key': 'git-branch', 'Value': 'experiment1'}\n",
    "tags = [commit, branch]\n",
    "create_date = strftime(\"%Y-%m-%d-%H-%M-%S\")\n",
    "experiment1 = Experiment.create(experiment_name = \"experiment1-{}\".format(create_date),\n",
    "                                    description = \"experiment1-{}\".format(create_date),\n",
    "                                    tags = tags)"
   ]
  },
  {
   "cell_type": "markdown",
   "metadata": {},
   "source": [
    "So, Our first experiment is done. we easily version the data (via dvc), track the model( sagemaker experiment) and relate them via git commmit id."
   ]
  },
  {
   "cell_type": "markdown",
   "metadata": {},
   "source": [
    "# Step 3: Create the scond experiment"
   ]
  },
  {
   "cell_type": "markdown",
   "metadata": {},
   "source": [
    "Lets create the second experiment through the same process."
   ]
  },
  {
   "cell_type": "code",
   "execution_count": 20,
   "metadata": {},
   "outputs": [
    {
     "name": "stdout",
     "output_type": "stream",
     "text": [
      "M\t.dvc/.gitignore\n",
      "M\t.dvc/config\n",
      "M\t.dvc/plots/confusion.json\n",
      "M\t.dvc/plots/default.json\n",
      "M\t.dvc/plots/scatter.json\n",
      "M\t.dvc/plots/smooth.json\n",
      "M\t.dvcignore\n",
      "M\tREADME.md\n",
      "M\tdata.dvc\n",
      "Switched to a new branch 'experiment2'\n",
      "  0% Checkout|                                       |0/1 [00:00<?,     ?file/s]\n",
      "!\u001b[A\n",
      "  0%|          |Computing file/dir hashes (only done o0/1 [00:00<?,      ?md5/s]\u001b[A\n",
      "\u001b[0m                                                                            \u001b[A"
     ]
    }
   ],
   "source": [
    "! git checkout -b experiment2"
   ]
  },
  {
   "cell_type": "markdown",
   "metadata": {},
   "source": [
    "In this experiment, we just drop one of the column from the original dataset to moel a data change. Let's follow the same procedure as experiment 1 to push the data to S3 and track the changes."
   ]
  },
  {
   "cell_type": "code",
   "execution_count": 21,
   "metadata": {},
   "outputs": [],
   "source": [
    "data = data.drop('petal width (cm)', axis=1)"
   ]
  },
  {
   "cell_type": "code",
   "execution_count": 22,
   "metadata": {},
   "outputs": [
    {
     "data": {
      "text/html": [
       "<div>\n",
       "<style scoped>\n",
       "    .dataframe tbody tr th:only-of-type {\n",
       "        vertical-align: middle;\n",
       "    }\n",
       "\n",
       "    .dataframe tbody tr th {\n",
       "        vertical-align: top;\n",
       "    }\n",
       "\n",
       "    .dataframe thead th {\n",
       "        text-align: right;\n",
       "    }\n",
       "</style>\n",
       "<table border=\"1\" class=\"dataframe\">\n",
       "  <thead>\n",
       "    <tr style=\"text-align: right;\">\n",
       "      <th></th>\n",
       "      <th>sepal length (cm)</th>\n",
       "      <th>sepal width (cm)</th>\n",
       "      <th>petal length (cm)</th>\n",
       "      <th>target</th>\n",
       "    </tr>\n",
       "  </thead>\n",
       "  <tbody>\n",
       "    <tr>\n",
       "      <th>0</th>\n",
       "      <td>5.1</td>\n",
       "      <td>3.5</td>\n",
       "      <td>1.4</td>\n",
       "      <td>0.0</td>\n",
       "    </tr>\n",
       "    <tr>\n",
       "      <th>1</th>\n",
       "      <td>4.9</td>\n",
       "      <td>3.0</td>\n",
       "      <td>1.4</td>\n",
       "      <td>0.0</td>\n",
       "    </tr>\n",
       "    <tr>\n",
       "      <th>2</th>\n",
       "      <td>4.7</td>\n",
       "      <td>3.2</td>\n",
       "      <td>1.3</td>\n",
       "      <td>0.0</td>\n",
       "    </tr>\n",
       "  </tbody>\n",
       "</table>\n",
       "</div>"
      ],
      "text/plain": [
       "   sepal length (cm)  sepal width (cm)  petal length (cm)  target\n",
       "0                5.1               3.5                1.4     0.0\n",
       "1                4.9               3.0                1.4     0.0\n",
       "2                4.7               3.2                1.3     0.0"
      ]
     },
     "execution_count": 22,
     "metadata": {},
     "output_type": "execute_result"
    }
   ],
   "source": [
    "data.head(3)"
   ]
  },
  {
   "cell_type": "code",
   "execution_count": 23,
   "metadata": {},
   "outputs": [],
   "source": [
    "data.to_csv('data.csv', index=False, header=False)\n",
    "boto3.Session().resource('s3').Bucket(bucket).Object(os.path.join(prefix, 'data.csv')).upload_file('data.csv')"
   ]
  },
  {
   "cell_type": "code",
   "execution_count": 24,
   "metadata": {},
   "outputs": [
    {
     "name": "stdout",
     "output_type": "stream",
     "text": [
      "Adding...                                                                       \n",
      "!\u001b[A\n",
      "  0%|          |Computing file/dir hashes (only done o0/1 [00:00<?,      ?md5/s]\u001b[A\n",
      "Adding...                                                                       \u001b[A\n",
      "!\u001b[A\n",
      "  0%|          |Computing file/dir hashes (only done o0/1 [00:00<?,      ?md5/s]\u001b[A\n",
      "                                                                                \u001b[A\n",
      "!\u001b[A\n",
      "  0%|          |Computing file/dir hashes (only done o0/1 [00:00<?,      ?md5/s]\u001b[A\n",
      "                                                                                \u001b[A\n",
      "!\u001b[A\n",
      "  0%|          |Saving data                     0.00/1.00 [00:00<?,     ?file/s]\u001b[A\n",
      "100%|██████████|Saving data                 1.00/1.00 [00:00<00:00,  3.39file/s]\u001b[A\n",
      "100% Add|██████████████████████████████████████████████|1/1 [00:02,  2.45s/file]\u001b[A\n",
      "\n",
      "To track the changes with git, run:\n",
      "\n",
      "\tgit add data.dvc\n",
      "\u001b[0m"
     ]
    }
   ],
   "source": [
    "! dvc add --external s3://sagemaker-demo-sam/data"
   ]
  },
  {
   "cell_type": "code",
   "execution_count": 26,
   "metadata": {},
   "outputs": [],
   "source": [
    "! git add data.dvc"
   ]
  },
  {
   "cell_type": "code",
   "execution_count": 27,
   "metadata": {},
   "outputs": [
    {
     "name": "stdout",
     "output_type": "stream",
     "text": [
      "Data and pipelines are up to date.                                              \n",
      "\u001b[0m[experiment2 c63f862] initial experiment 2\n",
      " 1 file changed, 1 insertion(+), 1 deletion(-)\n"
     ]
    }
   ],
   "source": [
    "! git commit -m \"initial experiment 2\""
   ]
  },
  {
   "cell_type": "code",
   "execution_count": 28,
   "metadata": {},
   "outputs": [
    {
     "name": "stdout",
     "output_type": "stream",
     "text": [
      "Everything is up to date.                                                       \n",
      "\u001b[0mEnumerating objects: 5, done.\n",
      "Counting objects: 100% (5/5), done.\n",
      "Delta compression using up to 2 threads\n",
      "Compressing objects: 100% (3/3), done.\n",
      "Writing objects: 100% (3/3), 340 bytes | 18.00 KiB/s, done.\n",
      "Total 3 (delta 1), reused 0 (delta 0)\n",
      "remote: Resolving deltas: 100% (1/1), completed with 1 local object.\u001b[K\n",
      "remote: \n",
      "remote: Create a pull request for 'experiment2' on GitHub by visiting:\u001b[K\n",
      "remote:      https://github.com/ghassem1365/sagemaker-dvc-demo/pull/new/experiment2\u001b[K\n",
      "remote: \n",
      "To github.com:ghassem1365/sagemaker-dvc-demo.git\n",
      " * [new branch]      experiment2 -> experiment2\n",
      "Branch 'experiment2' set up to track remote branch 'experiment2' from 'origin'.\n"
     ]
    }
   ],
   "source": [
    "! git push --set-upstream origin experiment2"
   ]
  },
  {
   "cell_type": "markdown",
   "metadata": {},
   "source": [
    "Again, we use git commit id as a measure to realte data version to specific a experiment."
   ]
  },
  {
   "cell_type": "code",
   "execution_count": 29,
   "metadata": {},
   "outputs": [
    {
     "name": "stdout",
     "output_type": "stream",
     "text": [
      "c63f86215292346491e20174b46e756f5abe8575\n"
     ]
    }
   ],
   "source": [
    "! git log --format=\"%H\" -n 1"
   ]
  },
  {
   "cell_type": "code",
   "execution_count": 30,
   "metadata": {},
   "outputs": [],
   "source": [
    "commit = {'Key': 'commit-id', 'Value': 'COMMITID'} # Replace COMMITID with the commit id that you get from previous cell\n",
    "branch = {'Key': 'git-branch', 'Value': 'experiment2'}\n",
    "tags = [commit, branch]\n",
    "create_date = strftime(\"%Y-%m-%d-%H-%M-%S\")\n",
    "demo_experiment = Experiment.create(experiment_name = \"experiment2-{}\".format(create_date),\n",
    "                                    description = \"experiment2-{}\".format(create_date),\n",
    "                                    tags = tags)"
   ]
  },
  {
   "cell_type": "markdown",
   "metadata": {},
   "source": [
    "Now, we have two experiments which are totally tracked (data via dvc, model via SageMaker experiemnt and related to each other via git commit id)"
   ]
  },
  {
   "cell_type": "markdown",
   "metadata": {},
   "source": [
    "## Step 4: Move to a different data version"
   ]
  },
  {
   "cell_type": "markdown",
   "metadata": {},
   "source": [
    "we can easily check out to experiment1 brnach and the data will also change to the version of this experiment. "
   ]
  },
  {
   "cell_type": "code",
   "execution_count": null,
   "metadata": {},
   "outputs": [],
   "source": [
    "! git checkout experiment1"
   ]
  },
  {
   "cell_type": "markdown",
   "metadata": {},
   "source": [
    "We can also use the commit id to go back to a specific data version."
   ]
  },
  {
   "cell_type": "code",
   "execution_count": null,
   "metadata": {},
   "outputs": [],
   "source": [
    "! git checkout d72fd71ac8ffedb6b5b8c0492e8dcc5ac0e8610b data.dvc\n",
    "! dvc pull"
   ]
  }
 ],
 "metadata": {
  "instance_type": "ml.t3.medium",
  "kernelspec": {
   "display_name": "Python 3 (Data Science)",
   "language": "python",
   "name": "python3__SAGEMAKER_INTERNAL__arn:aws:sagemaker:us-east-1:081325390199:image/datascience-1.0"
  },
  "language_info": {
   "codemirror_mode": {
    "name": "ipython",
    "version": 3
   },
   "file_extension": ".py",
   "mimetype": "text/x-python",
   "name": "python",
   "nbconvert_exporter": "python",
   "pygments_lexer": "ipython3",
   "version": "3.7.6"
  }
 },
 "nbformat": 4,
 "nbformat_minor": 4
}